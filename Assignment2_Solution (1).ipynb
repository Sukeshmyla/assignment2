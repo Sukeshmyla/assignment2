{
 "cells": [
  {
   "cell_type": "markdown",
   "id": "rapid-prague",
   "metadata": {
    "id": "rapid-prague"
   },
   "source": [
    "# Programming Assignment 2\n",
    "\n",
    "In this assignment, you will:\n",
    "\n",
    "1. Practice writing code to train and evaluate models using both the two-way holdout method, and an evaluation approach appropriate for models with hyperparameters that uses k-fold cross validation plus a test set.\n",
    "\n",
    "2. Practice writing code to optimize a machine learning model. In particular, we will use gradient descent to optimize a logistic regression model.\n",
    "\n",
    "3. **574 Only**: Perform optimization with a different algorithm (Newton-Raphson)\n",
    "\n",
    "# Resources you can use to complete this assignment (a COMPLETE list)\n",
    "\n",
    "**NOTE: You ARE allowed to use Google to find things that fit this list (i.e. it is often easy to google something like \"plotly draw line graph\" to find the right part of the plotly documentation).**\n",
    "\n",
    "- Anything linked to in this article\n",
    "- Anything linked to from the course web page\n",
    "- Any materials from another online course taught at a university (**if you use this, you MUST provide a link to the exact document used**)\n",
    "- Anything posted by Kenny, Navid, or Yincheng on Piazza\n"
   ]
  },
  {
   "cell_type": "markdown",
   "id": "everyday-packing",
   "metadata": {
    "id": "everyday-packing"
   },
   "source": [
    "\n",
    "# Grading\n",
    "\n",
    "For grading of code in Part 2, we will execute the submitted notebook as follows:\n",
    "\n",
    "```shell\n",
    "jupyter nbconvert --to python Assignment2-Student.ipynb\n",
    "python Assignment2-Student.py\n",
    "```\n",
    "\n",
    "The PDF that comes along with this document has other details on the points awarded for each part.\n",
    "\n",
    "As such, you will submit, one member of your group will subit as a zip file on UBLearns, a ```.zip``` file that contains 4 things:\n",
    "- Your completed jupyter notebook.\n",
    "- Your written report, answering all questions asked here (and copied in the assignment PDF)\n",
    "- `part_1.1_results.csv`\n",
    "- `part_1.4_results.csv`\n"
   ]
  },
  {
   "cell_type": "markdown",
   "id": "adjustable-double",
   "metadata": {
    "id": "adjustable-double"
   },
   "source": [
    "# Part 1 - Predicting Review Scores on Pitchfork\n",
    "\n",
    "For Part 1, we will be using data from [this paper](https://ojs.aaai.org/index.php/ICWSM/article/view/7355). The data is a collection of reviews from [Pitchfork](https://pitchfork.com/), a site that provides expert reviews of music album. The authors of this paper have also combined the data with a set of features from [Spotify’s API](https://developer.spotify.com/documentation/web-api/) that provide insight into the music itself, e.g. the \"acousticness\" of the song.  We will tackle a regression problem here, trying to predict the score of a review from several of the other columns in the dataset.\n",
    "\n",
    "## Part 1.1 - Feature Engineering with Feature Subsets\n",
    "\n",
    "In the first subsection of Part 1, we’re going to rely on our old friend linear regression. We’re going to look at how running linear regression with various subsets of our features impacts our ability to predict score.\n",
    "\n",
    "In Part 1.1, your task is to write code below that trains a separate linear regression model for a number of different feature subsets.  Specifically:\n",
    "\n",
    "- The list `feature_sets` below is a list of lists; each sublist is a different subset of features to build a model with. \n",
    "- All models should be trained on the dataset `part1_train.csv`. \n",
    "- For each of these trained models, you should evaluate the model’s predictions on the training dataset, as well as the provided test set, called `part1_test.csv`. The evaluation metric we will use is **root mean squared error**.  \n",
    "\n",
    "Write out the result to a file called `part_1.1_results.csv` and submit this along with your assignment. The file should have the following columns:\n",
    "- `feature_set` - a column describing the features of the model used. For feature sets with multiple features, combine them using an underscore (you can do this with the code `\"_\".join(feature_set)`)\n",
    "- `training_rmse` - a column that gives the RMSE of a linear regression model trained on this feature set on the training data\n",
    "- `test_rmse` - a column that gives the RMSE of a linear regression model trained on this feature set on the test data\n",
    "\n",
    "In addition, please answer the following questions:\n",
    "- **1.1.1** Which model had the best RMSE on the *training data*? \n",
    "- **1.1.2** Which model had the best RMSE on the *test data*? \n",
    "- **1.1.3** Which feature do you believe was the most important one? Why? *(Note: There is more than one perfectly acceptable way to answer this question)*\n",
    "- **1.1.4** What can we say about the utility of the Spotify features based on these results?"
   ]
  },
  {
   "cell_type": "code",
   "execution_count": 1,
   "id": "waiting-bunch",
   "metadata": {
    "id": "waiting-bunch"
   },
   "outputs": [],
   "source": [
    "feature_sets = [['artist'],\n",
    " ['reviewauthor'],\n",
    " ['releaseyear'],\n",
    " ['recordlabel'],\n",
    " ['genre'],\n",
    " ['danceability'],\n",
    " ['energy'],\n",
    " ['key'],\n",
    " ['loudness'],\n",
    " ['speechiness'],\n",
    " ['acousticness'],\n",
    " ['instrumentalness'],\n",
    " ['liveness'],\n",
    " ['valence'],\n",
    " ['tempo'],\n",
    " ['danceability','energy','key','loudness','speechiness','acousticness',\n",
    "  'instrumentalness','liveness','valence','tempo'],\n",
    " ['artist', 'reviewauthor', 'releaseyear', 'recordlabel', 'genre'],\n",
    " ['artist', 'reviewauthor', 'releaseyear', 'recordlabel', 'genre', 'danceability', \n",
    "  'energy', 'key', 'loudness', 'speechiness', 'acousticness', 'instrumentalness',\n",
    "  'liveness', 'valence', 'tempo']]\n"
   ]
  },
  {
   "cell_type": "code",
   "execution_count": 3,
   "id": "caring-aluminum",
   "metadata": {
    "colab": {
     "base_uri": "https://localhost:8080/"
    },
    "id": "caring-aluminum",
    "outputId": "54d2641c-5bf4-4fc5-fce9-ad50a1269903"
   },
   "outputs": [
    {
     "name": "stdout",
     "output_type": "stream",
     "text": [
      "Ytrain shape: (16270,)\n",
      "Ytest shape: (1808,)\n",
      "{'feature_set': [], 'train_rmse': [], 'test_rmse': []}\n",
      "                                          feature_set  train_rmse  test_rmse\n",
      "0                                              artist    1.226947   1.243599\n",
      "1                                        reviewauthor    1.181260   1.195335\n",
      "2                                         releaseyear    1.235994   1.232989\n",
      "3                                         recordlabel    1.204325   1.234508\n",
      "4                                               genre    1.234395   1.234444\n",
      "5                                        danceability    1.240362   1.241097\n",
      "6                                              energy    1.240900   1.239929\n",
      "7                                                 key    1.243497   1.243823\n",
      "8                                            loudness    1.236968   1.237578\n",
      "9                                         speechiness    1.243530   1.243566\n",
      "10                                       acousticness    1.240370   1.240188\n",
      "11                                   instrumentalness    1.238989   1.238840\n",
      "12                                           liveness    1.243534   1.243558\n",
      "13                                            valence    1.242268   1.240970\n",
      "14                                              tempo    1.243195   1.242322\n",
      "15  danceability_energy_key_loudness_speechiness_a...    1.233091   1.235554\n",
      "16  artist_reviewauthor_releaseyear_recordlabel_genre    1.119762   1.176532\n",
      "17  artist_reviewauthor_releaseyear_recordlabel_ge...    1.116897   1.175609\n"
     ]
    },
    {
     "data": {
      "text/plain": [
       "17    artist_reviewauthor_releaseyear_recordlabel_ge...\n",
       "Name: feature_set, dtype: object"
      ]
     },
     "execution_count": 3,
     "metadata": {},
     "output_type": "execute_result"
    }
   ],
   "source": [
    "import pandas as pd\n",
    "import numpy as np\n",
    "import matplotlib.pyplot as plt\n",
    "import numpy as np\n",
    "from sklearn.linear_model import LinearRegression\n",
    "from sklearn.pipeline import Pipeline, make_pipeline\n",
    "from sklearn.compose import ColumnTransformer\n",
    "from sklearn.preprocessing import StandardScaler, OneHotEncoder, PolynomialFeatures\n",
    "\n",
    "# Convenience things for you, note that releaseyear is continuous but is not a Spotify API variable\n",
    "CONTINUOUS_FEATURES = ['releaseyear', 'danceability', 'energy', 'key', 'loudness',\n",
    "       'speechiness', 'acousticness', 'instrumentalness', 'liveness',\n",
    "       'valence', 'tempo']\n",
    "CATEGORICAL_FEATURES = ['artist', 'reviewauthor', 'recordlabel', 'genre']\n",
    "\n",
    "# Read in the data\n",
    "training_data = pd.read_csv(\"part1_train.csv\")\n",
    "test_data = pd.read_csv(\"part1_test.csv\")\n",
    "\n",
    "result_data = []\n",
    "\n",
    "all_features = CONTINUOUS_FEATURES + CATEGORICAL_FEATURES\n",
    "\n",
    "train_data = pd.read_csv(\"part1_train.csv\")\n",
    "Ytrain = train_data[\"score\"]\n",
    "print(\"Ytrain shape:\", Ytrain.shape)\n",
    "test_data = pd.read_csv(\"part1_test.csv\") \n",
    "Ytest = test_data[\"score\"]\n",
    "print(\"Ytest shape:\", Ytest.shape)\n",
    "\n",
    "models_data = {\"feature_set\":[], \"train_rmse\":[], \"test_rmse\":[]}\n",
    "print(models_data)\n",
    "\n",
    "for feature_set in feature_sets:\n",
    "    # Write your code for Part 1.1 here!\n",
    "    catfs = []\n",
    "    contfs = []\n",
    "\n",
    "    for feature in feature_set:\n",
    "      if (feature in CATEGORICAL_FEATURES): catfs.append(feature)\n",
    "      elif (feature in CONTINUOUS_FEATURES): contfs.append(feature)\n",
    "\n",
    "    linreg_pipeline = make_pipeline(ColumnTransformer([('categorical', OneHotEncoder(), catfs), \n",
    "                                                       ('numerical', StandardScaler(), contfs)]), \n",
    "                                                      LinearRegression())\n",
    "    Xtrain = train_data[feature_set]\n",
    "    Xtest = test_data[feature_set]\n",
    "\n",
    "    linreg_pipeline.fit(Xtrain, Ytrain)\n",
    "    train_pred = np.asarray(linreg_pipeline.predict(Xtrain))\n",
    "    test_pred = np.asarray(linreg_pipeline.predict(Xtest))\n",
    "\n",
    "    train_error = np.square(train_pred - Ytrain)\n",
    "    test_error = np.square(test_pred - Ytest)\n",
    "    train_rmse = np.sqrt(np.sum(train_error) / len(Xtrain))\n",
    "    test_rmse = np.sqrt(np.sum(test_error) /len(Xtest))\n",
    "\n",
    "    models_data[\"feature_set\"].append(\"_\".join(feature_set))\n",
    "    models_data[\"train_rmse\"].append(train_rmse)\n",
    "    models_data[\"test_rmse\"].append(test_rmse)\n",
    "\n",
    "    pass\n",
    "results_data = pd.DataFrame(models_data)\n",
    "print(results_data)\n",
    "results_data.to_csv(\"madhavi_part1.1_res.csv\")\n",
    "results_data.feature_set[-1:]\n"
   ]
  },
  {
   "cell_type": "markdown",
   "id": "1X-I53XiZhM7",
   "metadata": {
    "id": "1X-I53XiZhM7"
   },
   "source": [
    "In addition, please answer the following questions:\n",
    "\n",
    "1.1.1 Which model had the best RMSE on the training data?"
   ]
  },
  {
   "cell_type": "code",
   "execution_count": 4,
   "id": "0NbBvgB5Z1wE",
   "metadata": {
    "colab": {
     "base_uri": "https://localhost:8080/",
     "height": 36
    },
    "id": "0NbBvgB5Z1wE",
    "outputId": "3e174771-bcdd-4b0b-cb76-1bd28140037b"
   },
   "outputs": [
    {
     "data": {
      "application/vnd.google.colaboratory.intrinsic+json": {
       "type": "string"
      },
      "text/plain": [
       "'artist_reviewauthor_releaseyear_recordlabel_genre_danceability_energy_key_loudness_speechiness_acousticness_instrumentalness_liveness_valence_tempo'"
      ]
     },
     "execution_count": 4,
     "metadata": {},
     "output_type": "execute_result"
    }
   ],
   "source": [
    "results_data.feature_set[np.argmin(results_data.train_rmse)]"
   ]
  },
  {
   "cell_type": "markdown",
   "id": "-KaimHetZqT1",
   "metadata": {
    "id": "-KaimHetZqT1"
   },
   "source": [
    "\n",
    "1.1.2 Which model had the best RMSE on the test data?\n"
   ]
  },
  {
   "cell_type": "code",
   "execution_count": 5,
   "id": "3jHqdKNMZoH4",
   "metadata": {
    "colab": {
     "base_uri": "https://localhost:8080/",
     "height": 36
    },
    "id": "3jHqdKNMZoH4",
    "outputId": "b6e306a4-6a8c-468a-d6f1-85c73cd0c2e4"
   },
   "outputs": [
    {
     "data": {
      "application/vnd.google.colaboratory.intrinsic+json": {
       "type": "string"
      },
      "text/plain": [
       "'artist_reviewauthor_releaseyear_recordlabel_genre_danceability_energy_key_loudness_speechiness_acousticness_instrumentalness_liveness_valence_tempo'"
      ]
     },
     "execution_count": 5,
     "metadata": {},
     "output_type": "execute_result"
    }
   ],
   "source": [
    "results_data.feature_set[np.argmin(results_data.test_rmse)]"
   ]
  },
  {
   "cell_type": "markdown",
   "id": "iNfDcWLBZ4Uq",
   "metadata": {
    "id": "iNfDcWLBZ4Uq"
   },
   "source": [
    "1.1.3 Which feature do you believe was the most important one? Why? (Note: There is more than one perfectly acceptable way to answer this question)\n"
   ]
  },
  {
   "cell_type": "code",
   "execution_count": 6,
   "id": "u1vp6vrSZodD",
   "metadata": {
    "colab": {
     "base_uri": "https://localhost:8080/",
     "height": 36
    },
    "id": "u1vp6vrSZodD",
    "outputId": "97864957-426c-49f4-e0e7-a8ac55687f84"
   },
   "outputs": [
    {
     "data": {
      "application/vnd.google.colaboratory.intrinsic+json": {
       "type": "string"
      },
      "text/plain": [
       "'reviewauthor'"
      ]
     },
     "execution_count": 6,
     "metadata": {},
     "output_type": "execute_result"
    }
   ],
   "source": [
    "# Considering 0-14 feature sets, which has individual features\n",
    "subdata = results_data[:15]\n",
    "subdata.feature_set[np.argmin(subdata.test_rmse)]\n"
   ]
  },
  {
   "cell_type": "markdown",
   "id": "rmc04ZTsZ3q9",
   "metadata": {
    "id": "rmc04ZTsZ3q9"
   },
   "source": [
    "1.1.4 What can we say about the utility of the Spotify features based on these results?"
   ]
  },
  {
   "cell_type": "markdown",
   "id": "afRMv4TpbEtg",
   "metadata": {
    "id": "afRMv4TpbEtg"
   },
   "source": [
    "Ans: Soptify features are not contributing much to the model."
   ]
  },
  {
   "cell_type": "markdown",
   "id": "addressed-mercy",
   "metadata": {
    "id": "addressed-mercy"
   },
   "source": [
    "## Part 1.2 - Feature Engineering with the LASSO\n",
    "\n",
    "In Part 1.2, your task is to write code below that trains an L1-regularized linear regression model, with an expanded feature set.  Specifically:\n",
    "\n",
    "1. Begin with the final feature set listed in `feature_sets` (i.e. your feature set, to begin this section, is `feature_sets[-1]`.\n",
    "2. One-hot encode your categorical variables, setting `drop=if_binary` and `sparse=False` in the function arguments. \n",
    "3. Scale all of your continuous features using the `StandardScaler`.\n",
    "4. Train an L1-regularized linear regression model using these features on the dataset `part1_train.csv`. You should use the [LassoCV](https://scikit-learn.org/stable/modules/generated/sklearn.linear_model.LassoCV.html) class in `sklearn`, it will do the cross-validation necessary to select the appropriate value for the regularizer for you!  Use 10-fold cross-validation to perform model selection (set the `LassoCV` parmaeter `cv` to 10), and set the `random_state` to 1. Do not change any of the other parameters to `LassoCV` (i.e. leave them at their defaults).\n",
    "5. Identify the best `alpha` value (the regularizer term, according to `sklearn`. In class, we refer to this as $\\lambda$!) in terms of average mean squared error according to the cross-validation.\n",
    "6. Finally, train a [Lasso](https://scikit-learn.org/stable/modules/generated/sklearn.linear_model.Lasso.html) model on the entire training dataset (`part1_train.csv`). You will use this to report the root mean squared error on the test set (Question 1.2.4 below), and use it in Part 1.3 below as well.\n",
    "\n",
    "**Hint: The proceedure outlined above is very similar to ones we have discussed in class and shown how to do using `Pipeline`s.** \n"
   ]
  },
  {
   "cell_type": "code",
   "execution_count": 7,
   "id": "loose-width",
   "metadata": {
    "id": "loose-width"
   },
   "outputs": [],
   "source": [
    "# Write your code for Part 1.2 here\n",
    "from sklearn.linear_model import LassoCV, Lasso\n",
    "\n",
    "# Do the CV to find alpha\n",
    "features = feature_sets[-1]\n",
    "\n",
    "# Retrain the model\n",
    "train_data = pd.read_csv(\"part1_train.csv\")\n",
    "Ytrain = train_data[\"score\"]\n",
    "test_data = pd.read_csv(\"part1_test.csv\") \n",
    "Ytest = test_data[\"score\"]\n",
    "\n",
    "catfs = []\n",
    "contfs = []\n",
    "\n",
    "for feature in features:\n",
    "  if (feature in CATEGORICAL_FEATURES): catfs.append(feature)\n",
    "  elif (feature in CONTINUOUS_FEATURES): contfs.append(feature)\n",
    "\n",
    "col_pipeline = make_pipeline(ColumnTransformer([('categorical', OneHotEncoder(drop=\"if_binary\", sparse=False), catfs), \n",
    "                                                    ('numerical', StandardScaler(), contfs)]))\n",
    "linreg_pipeline = make_pipeline(col_pipeline, LassoCV(cv=10, random_state=1))\n",
    "\n",
    "Xtrain = train_data[features]\n",
    "crossval_result = linreg_pipeline.fit(Xtrain, Ytrain)"
   ]
  },
  {
   "cell_type": "markdown",
   "id": "64UhH7sDc3Oj",
   "metadata": {
    "id": "64UhH7sDc3Oj"
   },
   "source": [
    "1.2.1 - How many total features are introduced by Step 2 above? Provide both the number and an explanation of how you got to this number."
   ]
  },
  {
   "cell_type": "code",
   "execution_count": 8,
   "id": "Lw8gLTVHc2ws",
   "metadata": {
    "colab": {
     "base_uri": "https://localhost:8080/"
    },
    "id": "Lw8gLTVHc2ws",
    "outputId": "367a389e-face-4789-ef81-e083e81c4174"
   },
   "outputs": [
    {
     "data": {
      "text/plain": [
       "680"
      ]
     },
     "execution_count": 8,
     "metadata": {},
     "output_type": "execute_result"
    }
   ],
   "source": [
    "col_pipeline.named_steps['columntransformer'].named_transformers_['categorical'].get_feature_names_out().shape[0]\n"
   ]
  },
  {
   "cell_type": "markdown",
   "id": "hQwODstscVFD",
   "metadata": {
    "id": "hQwODstscVFD"
   },
   "source": [
    "1.2.2 - What was the best alpha value according to your cross-validation results?"
   ]
  },
  {
   "cell_type": "code",
   "execution_count": 9,
   "id": "epftXltCcaOK",
   "metadata": {
    "colab": {
     "base_uri": "https://localhost:8080/"
    },
    "id": "epftXltCcaOK",
    "outputId": "4c3a1121-8bf1-4ecf-ae8b-9996f52d85bf"
   },
   "outputs": [
    {
     "name": "stdout",
     "output_type": "stream",
     "text": [
      "Best alpha: 0.0001685701255211163\n"
     ]
    }
   ],
   "source": [
    "\n",
    "best_alpha = linreg_pipeline.steps[-1][1].alpha_\n",
    "print(\"Best alpha:\", best_alpha)"
   ]
  },
  {
   "cell_type": "markdown",
   "id": "rtkhlO6AcapP",
   "metadata": {
    "id": "rtkhlO6AcapP"
   },
   "source": [
    "1.2.3 - What was the average RMSE of the model with this alpha value on the k-fold cross validation on the training data?\n"
   ]
  },
  {
   "cell_type": "code",
   "execution_count": 10,
   "id": "q-HA5Anfcccq",
   "metadata": {
    "colab": {
     "base_uri": "https://localhost:8080/"
    },
    "id": "q-HA5Anfcccq",
    "outputId": "b206cd1d-0cea-4c39-b5a7-017b6e03f6e0"
   },
   "outputs": [
    {
     "name": "stdout",
     "output_type": "stream",
     "text": [
      "Mean RMSE for best alpha: 1.1603036173033567\n"
     ]
    }
   ],
   "source": [
    "mean_rmses = np.sqrt(crossval_result[1].mse_path_.mean(axis=1))\n",
    "min_rmse_at = np.argmin(mean_rmses)\n",
    "print(\"Mean RMSE for best alpha:\", mean_rmses[min_rmse_at])"
   ]
  },
  {
   "cell_type": "markdown",
   "id": "xIymEKI7cdAA",
   "metadata": {
    "id": "xIymEKI7cdAA"
   },
   "source": [
    "1.2.4 - What was the RMSE of the model with this alpha value on the k-fold cross validation on the test data?"
   ]
  },
  {
   "cell_type": "code",
   "execution_count": 11,
   "id": "tBOM8Lr8ceD4",
   "metadata": {
    "colab": {
     "base_uri": "https://localhost:8080/"
    },
    "id": "tBOM8Lr8ceD4",
    "outputId": "e4ac0e85-eadf-4c20-e287-1cf2b26159db"
   },
   "outputs": [
    {
     "name": "stdout",
     "output_type": "stream",
     "text": [
      "test_rmse: 1.1649797846303533\n"
     ]
    }
   ],
   "source": [
    "test_pred = np.asarray(linreg_pipeline.predict(Xtest))\n",
    "test_error = np.square(test_pred - Ytest)\n",
    "test_rmse = np.sqrt(np.sum(test_error) /len(Xtest))\n",
    "print(\"test_rmse:\", test_rmse)\n"
   ]
  },
  {
   "cell_type": "code",
   "execution_count": 12,
   "id": "obDQ6q9fW167",
   "metadata": {
    "colab": {
     "base_uri": "https://localhost:8080/"
    },
    "id": "obDQ6q9fW167",
    "outputId": "18520015-fd80-4131-d874-6ff4f70d2f95"
   },
   "outputs": [
    {
     "name": "stdout",
     "output_type": "stream",
     "text": [
      "test_rmse 1.1649797846303533\n"
     ]
    }
   ],
   "source": [
    "# ALTERNATE WAY\n",
    "features = feature_sets[-1]\n",
    "train_data = pd.read_csv(\"part1_train.csv\")\n",
    "Ytrain = train_data[\"score\"]\n",
    "test_data = pd.read_csv(\"part1_test.csv\") \n",
    "Ytest = test_data[\"score\"]\n",
    "Xtrain = train_data[features]\n",
    "Xtest = test_data[features]\n",
    "\n",
    "best_linreg_pipeline = make_pipeline(col_pipeline, Lasso(alpha=best_alpha))\n",
    "best_alpha_result = best_linreg_pipeline.fit(Xtrain, Ytrain)\n",
    "\n",
    "test_pred = np.asarray(best_linreg_pipeline.predict(Xtest))\n",
    "test_error = np.square(test_pred - Ytest)\n",
    "test_rmse = np.sqrt(np.sum(test_error) /len(Xtest))\n",
    "print(\"test_rmse\", test_rmse)\n",
    "\n"
   ]
  },
  {
   "cell_type": "markdown",
   "id": "distinct-functionality",
   "metadata": {
    "id": "distinct-functionality"
   },
   "source": [
    "Now, answer the following questions:\n",
    "- **1.2.1** - How many total features are introduced by Step 2 above? Provide both the number and an explanation of how you got to this number.\n",
    "- **1.2.2** - What was the best `alpha` value according to your cross-validation results?\n",
    "- **1.2.3** - What was the **average RMSE** of the model with this `alpha` value on the k-fold cross validation on the *training* data?\n",
    "- **1.2.4** - What was the **RMSE** of the model with this `alpha` value on the k-fold cross validation on the *test* data?\n"
   ]
  },
  {
   "cell_type": "markdown",
   "id": "floating-vinyl",
   "metadata": {
    "id": "floating-vinyl"
   },
   "source": [
    "# Part 1.3 - Interpreting Model Coefficents\n",
    "\n",
    "In this section we will interpret the coefficients from the final model you trained on all of the training data.\n",
    "\n",
    "- **1.3.1** - How many non-zero coefficients are in this final model?\n",
    "- **1.3.2** - What percentage of the coefficients are non-zero in this final model?\n",
    "- **1.3.3** - Who were the three most critical review authors, as estimated by the model? How do you know?\n",
    "- **1.3.4** - Who were the three artists that reviewers tended to like the most?  How do you know?\n",
    "- **1.3.5** - What genre did Pitchfork reviewers tend to like the most? Which genre did they like the least?\n"
   ]
  },
  {
   "cell_type": "markdown",
   "id": "GG0ALL-6fBbU",
   "metadata": {
    "id": "GG0ALL-6fBbU"
   },
   "source": [
    "1.3.1 - How many non-zero coefficients are in this final model?"
   ]
  },
  {
   "cell_type": "code",
   "execution_count": 13,
   "id": "yz1dEIFEfDCc",
   "metadata": {
    "colab": {
     "base_uri": "https://localhost:8080/"
    },
    "id": "yz1dEIFEfDCc",
    "outputId": "fa906a5e-6a2b-480d-f6ac-bd2c6cde576c"
   },
   "outputs": [
    {
     "name": "stdout",
     "output_type": "stream",
     "text": [
      "#non-zero coeffs: 484\n"
     ]
    }
   ],
   "source": [
    "print(\"#non-zero coeffs:\", np.count_nonzero(best_linreg_pipeline[-1].coef_))"
   ]
  },
  {
   "cell_type": "markdown",
   "id": "ld8edFmYfDkK",
   "metadata": {
    "id": "ld8edFmYfDkK"
   },
   "source": [
    "1.3.2 - What percentage of the coefficients are non-zero in this final model?"
   ]
  },
  {
   "cell_type": "code",
   "execution_count": 14,
   "id": "nuW4jNJkfEYT",
   "metadata": {
    "colab": {
     "base_uri": "https://localhost:8080/"
    },
    "id": "nuW4jNJkfEYT",
    "outputId": "df2bb3eb-fa4c-4cc8-d7f5-256e13f712cb"
   },
   "outputs": [
    {
     "name": "stdout",
     "output_type": "stream",
     "text": [
      "% of non-zero coeffs: 70.04341534008684 %\n"
     ]
    }
   ],
   "source": [
    "print(\"% of non-zero coeffs:\", float(np.count_nonzero(best_linreg_pipeline[-1].coef_))/float(len(best_linreg_pipeline[-1].coef_))*100, \"%\")"
   ]
  },
  {
   "cell_type": "markdown",
   "id": "LsupkpvdfE4j",
   "metadata": {
    "id": "LsupkpvdfE4j"
   },
   "source": [
    "1.3.3 - Who were the three most critical review authors, as estimated by the model? How do you know?"
   ]
  },
  {
   "cell_type": "code",
   "execution_count": 15,
   "id": "TOMzmzt7fFrJ",
   "metadata": {
    "colab": {
     "base_uri": "https://localhost:8080/"
    },
    "id": "TOMzmzt7fFrJ",
    "outputId": "a00ad47d-e4c8-443c-f9f2-e5aa2513b4f8"
   },
   "outputs": [
    {
     "name": "stdout",
     "output_type": "stream",
     "text": [
      "1.3.3:   3 most critical review authors:\n",
      "112    categorical__reviewauthor_Alison Fields\n",
      "177    categorical__reviewauthor_Evan McGarvey\n",
      "137      categorical__reviewauthor_Brian James\n",
      "Name: feature_names, dtype: object\n"
     ]
    }
   ],
   "source": [
    "lasso_results = pd.DataFrame({\"feature_names\" : best_alpha_result[-2].get_feature_names_out(),\n",
    "              \"coefs\" : best_alpha_result[-1].coef_\n",
    "             })\n",
    "lasso_results['abs_coef'] = np.abs(lasso_results.coefs)\n",
    "\n",
    "print(\"1.3.3:   3 most critical review authors:\")\n",
    "print(lasso_results[lasso_results.feature_names.str.contains(\"reviewauthor\")].sort_values(\"coefs\",ascending=True)[0:3].feature_names)\n",
    "# Reason: Because these authors have the highest negative coefficients values.\n",
    "\n",
    "# Below one is also accepted.\n",
    "#print(lasso_results[lasso_results.feature_names.str.contains(\"reviewauthor\")].sort_values(\"abs_coef\",ascending=False)[0:3])\n",
    "# Reason: Because these authors have the highest absolute coefficients values."
   ]
  },
  {
   "cell_type": "markdown",
   "id": "4NEXB2ZUfOvx",
   "metadata": {
    "id": "4NEXB2ZUfOvx"
   },
   "source": [
    "1.3.4 - Who were the three artists that reviewers tended to like the most? How do you know?"
   ]
  },
  {
   "cell_type": "code",
   "execution_count": 16,
   "id": "1LugXZmZf8ae",
   "metadata": {
    "colab": {
     "base_uri": "https://localhost:8080/"
    },
    "id": "1LugXZmZf8ae",
    "outputId": "7d8c5120-f3e8-48da-fdcd-cd53d62de643"
   },
   "outputs": [
    {
     "name": "stdout",
     "output_type": "stream",
     "text": [
      "1.3.4:   3 most trending artists:\n",
      "                      feature_names     coefs  abs_coef\n",
      "70       categorical__artist_R.E.M.  0.981431  0.981431\n",
      "52  categorical__artist_Miles Davis  0.906630  0.906630\n",
      "42   categorical__artist_Kanye West  0.571318  0.571318\n"
     ]
    }
   ],
   "source": [
    "print(\"1.3.4:   3 most trending artists:\")\n",
    "print(lasso_results[lasso_results.feature_names.str.contains(\"artist\")].sort_values(\"coefs\",ascending=False)[0:3])\n",
    "\n",
    "#Reason: Because these artists had the highest coefficient values."
   ]
  },
  {
   "cell_type": "markdown",
   "id": "t4SuC6nmfTMK",
   "metadata": {
    "id": "t4SuC6nmfTMK"
   },
   "source": [
    "1.3.5 - What genre did Pitchfork reviewers tend to like the most? Which genre did they like the least?"
   ]
  },
  {
   "cell_type": "code",
   "execution_count": 17,
   "id": "twOBPjgwfS4x",
   "metadata": {
    "colab": {
     "base_uri": "https://localhost:8080/"
    },
    "id": "twOBPjgwfS4x",
    "outputId": "489e3571-09b4-4273-e624-8d693509b549"
   },
   "outputs": [
    {
     "name": "stdout",
     "output_type": "stream",
     "text": [
      "Most Liked reviewer: 672    categorical__genre_Global\n",
      "Name: feature_names, dtype: object\n",
      "Most Disliked reviewer: 679           categorical__genre_nan\n",
      "669    categorical__genre_Electronic\n",
      "Name: feature_names, dtype: object\n"
     ]
    }
   ],
   "source": [
    "print(\"Most Liked reviewer:\", lasso_results[lasso_results.feature_names.str.contains(\"genre\")].sort_values(\"coefs\",ascending=False)[0:1].feature_names)\n",
    "#Reason: Because these reviewers had the highest coefficient values.\n",
    "\n",
    "print(\"Most Disliked reviewer:\", lasso_results[lasso_results.feature_names.str.contains(\"genre\")].sort_values(\"coefs\",ascending=True)[0:2].feature_names)\n",
    "#Reason: Because these reviewers had the least coefficient values."
   ]
  },
  {
   "cell_type": "markdown",
   "id": "appropriate-lesbian",
   "metadata": {
    "id": "appropriate-lesbian"
   },
   "source": [
    "# Part 1.4 - \"Manual\" Cross-Validation + Holdout for Model Selection and Evaluation\n",
    "\n",
    "We will finally use cross validation for both algorithm and model selection, with a hold-out test set for a final evaluation. We will use **5-fold cross validation** to identify the best parameters and hyperparameters for a set of models. We will then take our final models and use a final hold-out test set (the same one as above) to estimate the generalization error of the models.\n",
    "\n",
    "Specifically, your task is first to write code that trains and evaluates the following models, one for each of the specified hyper parameters sets:\n",
    "\n",
    "- `Decision Tree regression` - All combinations of a `max_depth` of 5, 10, or 20, and a `criterion` of `\"squared error\"` or `\"absolute error\"`. Use the [DecisionTreeRegressor](https://scikit-learn.org/stable/modules/generated/sklearn.tree.DecisionTreeRegressor.html#sklearn.tree.DecisionTreeRegressor).\n",
    "- Ridge regression - Use the following choices of L2 penalty: $[10^{-5}, 10^{-4}, ..., 10^4, 10^5]$. In Python, you can create a list of these numbers using `np.logspace(-5, 5, 11)`. Use the [Ridge](https://scikit-learn.org/stable/modules/generated/sklearn.linear_model.Ridge.html#sklearn.linear_model.Ridge) class from sklearn to train a Ridge Regression model. The parameters you need to pass when constructing the Ridge model are `alpha`, which lets you specify what you want the L2 penalty to be, and `random_state=0` to avoid randomness.\n",
    "- kNN regression - Values of `n_neighbors` of 1, 5, 10, and 15. Use the [KNeighborsRegressor](https://scikit-learn.org/stable/modules/generated/sklearn.neighbors.KNeighborsRegressor.html) class.\n",
    "\n",
    "Additional notes:\n",
    "1. All models should use the feature sets described in Part 1.3 (the same ...one-hot encoded... categorical variables, and the scaled continuous variables)\n",
    "2. As opposed to using the `KFold` class from `sklearn` like we did in class, we have instead provided you with pre-existing data sets; you should therefore use the pre-split data in the provided CSV files ``1.2_fold0.csv ... 1.2_fold4.csv``\n",
    "\n",
    "**What to submit**:\n",
    "\n",
    "1. Write out the result to a file called `part_1.4_results.csv` and submit this along with your assignment. The file should have the following columns:\n",
    "- `model_name` - The name of the model, one of `DTR` (Decision Tree Regression), `Ridge`, or `KNN`.\n",
    "- `hyperparameter_setting` - a column describing the hyperparameters of the model. For models with multiple hyperparameters, combine them using an underscore (you can do this with the code `\"_\".join(hyperparameters)`).\n",
    "- `mean_training_rmse` - a column that gives the mean RMSE on the k-fold training data. You should take the average of the model’s errors on the different folds, using root mean squared error again as your evaluation metric.\n",
    "- `sd_training_rmse` - a column that gives the standard deviation RMSE on the k-fold training data.\n",
    "- `test_rmse` - a column that gives the RMSE of a linear regression model trained on this feature set on the test data\n",
    "\n",
    "\n",
    "2. Answer the following questions:\n",
    "- **1.4.1** Report, for each model, the hyper parameter setting that resulted in the best performance\n",
    "- **1.4.2** Which model performed the best overall on the cross-validation? \n",
    "- **1.4.3** Which model performed the best overall on the final test set? \n",
    "- **1.4.4** With respect to your answer for 1.4.3, why do you think that might be? (*Note: there is more than one correct way to answer this question*)\n",
    "- **1.4.5** Which model/hyperparameter setting had the highest standard deviation across the different folds of the cross validation?\n",
    "- **1.4.6** With respect to your answer for 1.4.6, why do you think that might be? (*Note: there is more than one correct way to answer this question*)"
   ]
  },
  {
   "cell_type": "code",
   "execution_count": 18,
   "id": "u5GnK6DUoVSP",
   "metadata": {
    "id": "u5GnK6DUoVSP"
   },
   "outputs": [],
   "source": [
    "# 1.4 Codes:\n",
    "\n",
    "# Read in data:\n",
    "\n",
    "data_folds = dict()\n",
    "for i in range(5):\n",
    "  fname = \"1.2_fold\" + str(i) + \".csv\"\n",
    "  data_folds[i] = pd.read_csv(fname)\n",
    "\n",
    "total_train_data = pd.read_csv(\"part1_train.csv\")\n",
    "total_Ytrain = total_train_data[\"score\"]\n",
    "total_test_data = pd.read_csv(\"part1_test.csv\") \n",
    "total_Ytest = total_test_data[\"score\"]\n",
    "\n",
    "features = feature_sets[-1]\n",
    "total_Xtrain = total_train_data[features]\n",
    "total_Xtest = total_test_data[features]\n",
    "\n",
    "# Make pipeline for features data processing\n",
    "col_pipeline = make_pipeline(ColumnTransformer([('numerical', StandardScaler(), CONTINUOUS_FEATURES),\n",
    "          ('categorical',  OneHotEncoder(handle_unknown = 'ignore'), CATEGORICAL_FEATURES)]))\n"
   ]
  },
  {
   "cell_type": "code",
   "execution_count": 19,
   "id": "O_BZ7SfxrJRg",
   "metadata": {
    "id": "O_BZ7SfxrJRg"
   },
   "outputs": [],
   "source": [
    "# type(data_folds[0])\n",
    "\n",
    "# for nfold in range(5):\n",
    "\n",
    "#   train_set = pd.DataFrame()\n",
    "#   val_set = pd.DataFrame()\n",
    "\n",
    "#   for i in range(5):\n",
    "#     if (i != nfold):\n",
    "#       train_set = pd.concat([train_set, data_folds[i]], axis=0)\n",
    "#     else:\n",
    "#       val_set = pd.concat([val_set, data_folds[i]], axis=0)\n",
    "#   print(train_set.shape)\n",
    "#   print(test_set.shape)"
   ]
  },
  {
   "cell_type": "code",
   "execution_count": 20,
   "id": "BDb_weN-Kqw0",
   "metadata": {
    "id": "BDb_weN-Kqw0"
   },
   "outputs": [],
   "source": [
    "# Store results in frame\n",
    "results_data = {\"model_name\":[], \"hyperparamter_setting\":[],\"mean_training_rmse\":[], \"sd_training_rmse\":[], \"test_rmse\":[]}\n",
    "all_features = CONTINUOUS_FEATURES + CATEGORICAL_FEATURES\n",
    "\n",
    "## DECISION TREE REG\n",
    "\n",
    "from sklearn.tree import DecisionTreeRegressor\n",
    "\n",
    "depths = [5, 10, 20]\n",
    "\n",
    "for depth in depths:\n",
    "\n",
    "  model_name = \"DTR\"\n",
    "  hyp = str(depth)\n",
    "  train_rmses = []\n",
    "\n",
    "  for nfold in range(5):\n",
    "  \n",
    "    train_set = pd.DataFrame()\n",
    "    val_set = pd.DataFrame()\n",
    "\n",
    "    for i in range(5):\n",
    "      if (i != nfold):\n",
    "        train_set = pd.concat([train_set, data_folds[i]], axis=0)\n",
    "      else:\n",
    "        val_set = pd.concat([val_set, data_folds[i]], axis=0)\n",
    "\n",
    "    Xtrain = train_set[all_features]\n",
    "    Ytrain = train_set[\"score\"]\n",
    "    Xval = val_set[all_features]\n",
    "    Yval = val_set[\"score\"]\n",
    "\n",
    "    \n",
    "    pipeline = make_pipeline(col_pipeline, DecisionTreeRegressor(criterion=\"squared_error\", max_depth=depth))\n",
    "    pipeline.fit(Xtrain, Ytrain)\n",
    "\n",
    "    val_pred = np.asarray(pipeline.predict(Xval))\n",
    "    val_error = np.square(val_pred - Yval)\n",
    "    val_rmse = np.sqrt(np.sum(val_error) /len(Xval))\n",
    "    train_rmses.append(val_rmse)\n",
    "  \n",
    "  mean_train_rmse = np.mean(train_rmses)\n",
    "  sd_train_rmse = np.std(train_rmses)\n",
    "\n",
    "  results_data[\"model_name\"].append(model_name)\n",
    "  results_data[\"hyperparamter_setting\"].append(hyp)\n",
    "  results_data[\"mean_training_rmse\"].append(mean_train_rmse)\n",
    "  results_data[\"sd_training_rmse\"].append(sd_train_rmse)\n",
    "\n",
    "  #print(depth)\n",
    "  pipeline = make_pipeline(col_pipeline, DecisionTreeRegressor(criterion=\"squared_error\", max_depth=depth))\n",
    "  pipeline.fit(total_Xtrain, total_Ytrain)\n",
    "  test_pred = np.asarray(pipeline.predict(total_Xtest))\n",
    "  test_error = np.square(test_pred - total_Ytest)\n",
    "  test_rmse = np.sqrt(np.sum(test_error) /len(Xtest))\n",
    "  results_data[\"test_rmse\"].append(test_rmse)\n",
    "\n",
    "\n"
   ]
  },
  {
   "cell_type": "code",
   "execution_count": 21,
   "id": "4qz4cCbfUec4",
   "metadata": {
    "colab": {
     "base_uri": "https://localhost:8080/",
     "height": 182
    },
    "id": "4qz4cCbfUec4",
    "outputId": "c5409b5c-8c13-4fdc-f071-f517e8b86c2b"
   },
   "outputs": [
    {
     "name": "stdout",
     "output_type": "stream",
     "text": [
      "{'model_name': ['DTR', 'DTR', 'DTR'], 'hyperparamter_setting': ['5', '10', '20'], 'mean_training_rmse': [1.208094186519705, 1.2454427211400911, 1.3349907701785437], 'sd_training_rmse': [0.02330679904192824, 0.02597186157714203, 0.015919245228671112], 'test_rmse': [1.2021076225285747, 1.2622793067391083, 1.372671998450443]}\n"
     ]
    },
    {
     "data": {
      "text/html": [
       "\n",
       "  <div id=\"df-0055d549-14b3-42aa-a76d-5ea7ad9ad73b\">\n",
       "    <div class=\"colab-df-container\">\n",
       "      <div>\n",
       "<style scoped>\n",
       "    .dataframe tbody tr th:only-of-type {\n",
       "        vertical-align: middle;\n",
       "    }\n",
       "\n",
       "    .dataframe tbody tr th {\n",
       "        vertical-align: top;\n",
       "    }\n",
       "\n",
       "    .dataframe thead th {\n",
       "        text-align: right;\n",
       "    }\n",
       "</style>\n",
       "<table border=\"1\" class=\"dataframe\">\n",
       "  <thead>\n",
       "    <tr style=\"text-align: right;\">\n",
       "      <th></th>\n",
       "      <th>model_name</th>\n",
       "      <th>hyperparamter_setting</th>\n",
       "      <th>mean_training_rmse</th>\n",
       "      <th>sd_training_rmse</th>\n",
       "      <th>test_rmse</th>\n",
       "    </tr>\n",
       "  </thead>\n",
       "  <tbody>\n",
       "    <tr>\n",
       "      <th>0</th>\n",
       "      <td>DTR</td>\n",
       "      <td>5</td>\n",
       "      <td>1.208094</td>\n",
       "      <td>0.023307</td>\n",
       "      <td>1.202108</td>\n",
       "    </tr>\n",
       "    <tr>\n",
       "      <th>1</th>\n",
       "      <td>DTR</td>\n",
       "      <td>10</td>\n",
       "      <td>1.245443</td>\n",
       "      <td>0.025972</td>\n",
       "      <td>1.262279</td>\n",
       "    </tr>\n",
       "    <tr>\n",
       "      <th>2</th>\n",
       "      <td>DTR</td>\n",
       "      <td>20</td>\n",
       "      <td>1.334991</td>\n",
       "      <td>0.015919</td>\n",
       "      <td>1.372672</td>\n",
       "    </tr>\n",
       "  </tbody>\n",
       "</table>\n",
       "</div>\n",
       "      <button class=\"colab-df-convert\" onclick=\"convertToInteractive('df-0055d549-14b3-42aa-a76d-5ea7ad9ad73b')\"\n",
       "              title=\"Convert this dataframe to an interactive table.\"\n",
       "              style=\"display:none;\">\n",
       "        \n",
       "  <svg xmlns=\"http://www.w3.org/2000/svg\" height=\"24px\"viewBox=\"0 0 24 24\"\n",
       "       width=\"24px\">\n",
       "    <path d=\"M0 0h24v24H0V0z\" fill=\"none\"/>\n",
       "    <path d=\"M18.56 5.44l.94 2.06.94-2.06 2.06-.94-2.06-.94-.94-2.06-.94 2.06-2.06.94zm-11 1L8.5 8.5l.94-2.06 2.06-.94-2.06-.94L8.5 2.5l-.94 2.06-2.06.94zm10 10l.94 2.06.94-2.06 2.06-.94-2.06-.94-.94-2.06-.94 2.06-2.06.94z\"/><path d=\"M17.41 7.96l-1.37-1.37c-.4-.4-.92-.59-1.43-.59-.52 0-1.04.2-1.43.59L10.3 9.45l-7.72 7.72c-.78.78-.78 2.05 0 2.83L4 21.41c.39.39.9.59 1.41.59.51 0 1.02-.2 1.41-.59l7.78-7.78 2.81-2.81c.8-.78.8-2.07 0-2.86zM5.41 20L4 18.59l7.72-7.72 1.47 1.35L5.41 20z\"/>\n",
       "  </svg>\n",
       "      </button>\n",
       "      \n",
       "  <style>\n",
       "    .colab-df-container {\n",
       "      display:flex;\n",
       "      flex-wrap:wrap;\n",
       "      gap: 12px;\n",
       "    }\n",
       "\n",
       "    .colab-df-convert {\n",
       "      background-color: #E8F0FE;\n",
       "      border: none;\n",
       "      border-radius: 50%;\n",
       "      cursor: pointer;\n",
       "      display: none;\n",
       "      fill: #1967D2;\n",
       "      height: 32px;\n",
       "      padding: 0 0 0 0;\n",
       "      width: 32px;\n",
       "    }\n",
       "\n",
       "    .colab-df-convert:hover {\n",
       "      background-color: #E2EBFA;\n",
       "      box-shadow: 0px 1px 2px rgba(60, 64, 67, 0.3), 0px 1px 3px 1px rgba(60, 64, 67, 0.15);\n",
       "      fill: #174EA6;\n",
       "    }\n",
       "\n",
       "    [theme=dark] .colab-df-convert {\n",
       "      background-color: #3B4455;\n",
       "      fill: #D2E3FC;\n",
       "    }\n",
       "\n",
       "    [theme=dark] .colab-df-convert:hover {\n",
       "      background-color: #434B5C;\n",
       "      box-shadow: 0px 1px 3px 1px rgba(0, 0, 0, 0.15);\n",
       "      filter: drop-shadow(0px 1px 2px rgba(0, 0, 0, 0.3));\n",
       "      fill: #FFFFFF;\n",
       "    }\n",
       "  </style>\n",
       "\n",
       "      <script>\n",
       "        const buttonEl =\n",
       "          document.querySelector('#df-0055d549-14b3-42aa-a76d-5ea7ad9ad73b button.colab-df-convert');\n",
       "        buttonEl.style.display =\n",
       "          google.colab.kernel.accessAllowed ? 'block' : 'none';\n",
       "\n",
       "        async function convertToInteractive(key) {\n",
       "          const element = document.querySelector('#df-0055d549-14b3-42aa-a76d-5ea7ad9ad73b');\n",
       "          const dataTable =\n",
       "            await google.colab.kernel.invokeFunction('convertToInteractive',\n",
       "                                                     [key], {});\n",
       "          if (!dataTable) return;\n",
       "\n",
       "          const docLinkHtml = 'Like what you see? Visit the ' +\n",
       "            '<a target=\"_blank\" href=https://colab.research.google.com/notebooks/data_table.ipynb>data table notebook</a>'\n",
       "            + ' to learn more about interactive tables.';\n",
       "          element.innerHTML = '';\n",
       "          dataTable['output_type'] = 'display_data';\n",
       "          await google.colab.output.renderOutput(dataTable, element);\n",
       "          const docLink = document.createElement('div');\n",
       "          docLink.innerHTML = docLinkHtml;\n",
       "          element.appendChild(docLink);\n",
       "        }\n",
       "      </script>\n",
       "    </div>\n",
       "  </div>\n",
       "  "
      ],
      "text/plain": [
       "  model_name hyperparamter_setting  mean_training_rmse  sd_training_rmse  \\\n",
       "0        DTR                     5            1.208094          0.023307   \n",
       "1        DTR                    10            1.245443          0.025972   \n",
       "2        DTR                    20            1.334991          0.015919   \n",
       "\n",
       "   test_rmse  \n",
       "0   1.202108  \n",
       "1   1.262279  \n",
       "2   1.372672  "
      ]
     },
     "execution_count": 21,
     "metadata": {},
     "output_type": "execute_result"
    }
   ],
   "source": [
    "print(results_data)\n",
    "dfs = pd.DataFrame(results_data)\n",
    "dfs"
   ]
  },
  {
   "cell_type": "code",
   "execution_count": 22,
   "id": "abTcrX681SXw",
   "metadata": {
    "colab": {
     "base_uri": "https://localhost:8080/"
    },
    "id": "abTcrX681SXw",
    "outputId": "a4a63ad1-2e63-4cb7-8dd2-2050341c2d3f"
   },
   "outputs": [
    {
     "name": "stdout",
     "output_type": "stream",
     "text": [
      "1e-05\n",
      "0.0001\n",
      "0.001\n",
      "0.01\n",
      "0.1\n",
      "1\n",
      "10\n",
      "100\n",
      "1000\n",
      "10000\n",
      "100000\n"
     ]
    }
   ],
   "source": [
    "## RIDGE REGRESSION\n",
    "\n",
    "from sklearn.linear_model import Ridge\n",
    "lambdas = [0.00001, 0.0001, 0.001, 0.01, 0.1, 1, 10, 100, 1000, 10000, 100000]\n",
    "\n",
    "for ld in lambdas:\n",
    "  model_name = \"ridge\"\n",
    "  hyp = str(ld)\n",
    "\n",
    "  train_rmses = []\n",
    "\n",
    "  for nfold in range(5):\n",
    "  \n",
    "    train_set = pd.DataFrame()\n",
    "    val_set = pd.DataFrame()\n",
    "\n",
    "    for i in range(5):\n",
    "      if (i != nfold):\n",
    "        train_set = pd.concat([train_set, data_folds[i]], axis=0)\n",
    "      else:\n",
    "        val_set = pd.concat([val_set, data_folds[i]], axis=0)\n",
    "\n",
    "    Xtrain = train_set[all_features]\n",
    "    Ytrain = train_set[\"score\"]\n",
    "    Xval = val_set[all_features]\n",
    "    Yval = val_set[\"score\"]\n",
    "\n",
    "    \n",
    "    pipeline = make_pipeline(col_pipeline, Ridge(alpha=ld, random_state=0))\n",
    "    pipeline.fit(Xtrain, Ytrain)\n",
    "\n",
    "    val_pred = np.asarray(pipeline.predict(Xval))\n",
    "    val_error = np.square(val_pred - Yval)\n",
    "    val_rmse = np.sqrt(np.sum(val_error) /len(Xval))\n",
    "    train_rmses.append(val_rmse)\n",
    "  \n",
    "  mean_train_rmse = np.mean(train_rmses)\n",
    "  sd_train_rmse = np.std(train_rmses)\n",
    "\n",
    "  results_data[\"model_name\"].append(model_name)\n",
    "  results_data[\"hyperparamter_setting\"].append(hyp)\n",
    "  results_data[\"mean_training_rmse\"].append(mean_train_rmse)\n",
    "  results_data[\"sd_training_rmse\"].append(sd_train_rmse)\n",
    "\n",
    "  print(ld)\n",
    "  pipeline = make_pipeline(col_pipeline, Ridge(alpha=ld, random_state=0))\n",
    "  pipeline.fit(total_Xtrain, total_Ytrain)\n",
    "  test_pred = np.asarray(pipeline.predict(total_Xtest))\n",
    "  test_error = np.square(test_pred - total_Ytest)\n",
    "  test_rmse = np.sqrt(np.sum(test_error) /len(Xtest))\n",
    "  results_data[\"test_rmse\"].append(test_rmse)"
   ]
  },
  {
   "cell_type": "code",
   "execution_count": 23,
   "id": "IQvuJ2GE1uwp",
   "metadata": {
    "colab": {
     "base_uri": "https://localhost:8080/",
     "height": 527
    },
    "id": "IQvuJ2GE1uwp",
    "outputId": "86c8d9f6-fa76-4345-9d6b-7abc71c26487"
   },
   "outputs": [
    {
     "name": "stdout",
     "output_type": "stream",
     "text": [
      "{'model_name': ['DTR', 'DTR', 'DTR', 'ridge', 'ridge', 'ridge', 'ridge', 'ridge', 'ridge', 'ridge', 'ridge', 'ridge', 'ridge', 'ridge'], 'hyperparamter_setting': ['5', '10', '20', '1e-05', '0.0001', '0.001', '0.01', '0.1', '1', '10', '100', '1000', '10000', '100000'], 'mean_training_rmse': [1.208094186519705, 1.2454427211400911, 1.3349907701785437, 1.1715478320753452, 1.1715512711066007, 1.171536437922751, 1.1714605324969243, 1.171040718706792, 1.167321905354776, 1.160131189622231, 1.1786003174802102, 1.209263437412607, 1.2260398289555752, 1.2377211414428124], 'sd_training_rmse': [0.02330679904192824, 0.02597186157714203, 0.015919245228671112, 0.023958436587093457, 0.02397211101969935, 0.02395653115905334, 0.023987995722296276, 0.023995313357225725, 0.024521937847497784, 0.026596518399162168, 0.027792669667579175, 0.027734762430704895, 0.02837208791583268, 0.028979845092785294], 'test_rmse': [1.2021076225285747, 1.2622793067391083, 1.372671998450443, 1.1757422813209202, 1.175750969591995, 1.1754574899651449, 1.1755205474091346, 1.175178651975849, 1.1722696925560154, 1.1618361501938803, 1.1712637490435092, 1.2032172075723067, 1.2229618373234654, 1.2364854520448396]}\n"
     ]
    },
    {
     "data": {
      "text/html": [
       "\n",
       "  <div id=\"df-c7f6b7f6-39e4-4179-91fb-fc5a1aa55d17\">\n",
       "    <div class=\"colab-df-container\">\n",
       "      <div>\n",
       "<style scoped>\n",
       "    .dataframe tbody tr th:only-of-type {\n",
       "        vertical-align: middle;\n",
       "    }\n",
       "\n",
       "    .dataframe tbody tr th {\n",
       "        vertical-align: top;\n",
       "    }\n",
       "\n",
       "    .dataframe thead th {\n",
       "        text-align: right;\n",
       "    }\n",
       "</style>\n",
       "<table border=\"1\" class=\"dataframe\">\n",
       "  <thead>\n",
       "    <tr style=\"text-align: right;\">\n",
       "      <th></th>\n",
       "      <th>model_name</th>\n",
       "      <th>hyperparamter_setting</th>\n",
       "      <th>mean_training_rmse</th>\n",
       "      <th>sd_training_rmse</th>\n",
       "      <th>test_rmse</th>\n",
       "    </tr>\n",
       "  </thead>\n",
       "  <tbody>\n",
       "    <tr>\n",
       "      <th>0</th>\n",
       "      <td>DTR</td>\n",
       "      <td>5</td>\n",
       "      <td>1.208094</td>\n",
       "      <td>0.023307</td>\n",
       "      <td>1.202108</td>\n",
       "    </tr>\n",
       "    <tr>\n",
       "      <th>1</th>\n",
       "      <td>DTR</td>\n",
       "      <td>10</td>\n",
       "      <td>1.245443</td>\n",
       "      <td>0.025972</td>\n",
       "      <td>1.262279</td>\n",
       "    </tr>\n",
       "    <tr>\n",
       "      <th>2</th>\n",
       "      <td>DTR</td>\n",
       "      <td>20</td>\n",
       "      <td>1.334991</td>\n",
       "      <td>0.015919</td>\n",
       "      <td>1.372672</td>\n",
       "    </tr>\n",
       "    <tr>\n",
       "      <th>3</th>\n",
       "      <td>ridge</td>\n",
       "      <td>1e-05</td>\n",
       "      <td>1.171548</td>\n",
       "      <td>0.023958</td>\n",
       "      <td>1.175742</td>\n",
       "    </tr>\n",
       "    <tr>\n",
       "      <th>4</th>\n",
       "      <td>ridge</td>\n",
       "      <td>0.0001</td>\n",
       "      <td>1.171551</td>\n",
       "      <td>0.023972</td>\n",
       "      <td>1.175751</td>\n",
       "    </tr>\n",
       "    <tr>\n",
       "      <th>5</th>\n",
       "      <td>ridge</td>\n",
       "      <td>0.001</td>\n",
       "      <td>1.171536</td>\n",
       "      <td>0.023957</td>\n",
       "      <td>1.175457</td>\n",
       "    </tr>\n",
       "    <tr>\n",
       "      <th>6</th>\n",
       "      <td>ridge</td>\n",
       "      <td>0.01</td>\n",
       "      <td>1.171461</td>\n",
       "      <td>0.023988</td>\n",
       "      <td>1.175521</td>\n",
       "    </tr>\n",
       "    <tr>\n",
       "      <th>7</th>\n",
       "      <td>ridge</td>\n",
       "      <td>0.1</td>\n",
       "      <td>1.171041</td>\n",
       "      <td>0.023995</td>\n",
       "      <td>1.175179</td>\n",
       "    </tr>\n",
       "    <tr>\n",
       "      <th>8</th>\n",
       "      <td>ridge</td>\n",
       "      <td>1</td>\n",
       "      <td>1.167322</td>\n",
       "      <td>0.024522</td>\n",
       "      <td>1.172270</td>\n",
       "    </tr>\n",
       "    <tr>\n",
       "      <th>9</th>\n",
       "      <td>ridge</td>\n",
       "      <td>10</td>\n",
       "      <td>1.160131</td>\n",
       "      <td>0.026597</td>\n",
       "      <td>1.161836</td>\n",
       "    </tr>\n",
       "    <tr>\n",
       "      <th>10</th>\n",
       "      <td>ridge</td>\n",
       "      <td>100</td>\n",
       "      <td>1.178600</td>\n",
       "      <td>0.027793</td>\n",
       "      <td>1.171264</td>\n",
       "    </tr>\n",
       "    <tr>\n",
       "      <th>11</th>\n",
       "      <td>ridge</td>\n",
       "      <td>1000</td>\n",
       "      <td>1.209263</td>\n",
       "      <td>0.027735</td>\n",
       "      <td>1.203217</td>\n",
       "    </tr>\n",
       "    <tr>\n",
       "      <th>12</th>\n",
       "      <td>ridge</td>\n",
       "      <td>10000</td>\n",
       "      <td>1.226040</td>\n",
       "      <td>0.028372</td>\n",
       "      <td>1.222962</td>\n",
       "    </tr>\n",
       "    <tr>\n",
       "      <th>13</th>\n",
       "      <td>ridge</td>\n",
       "      <td>100000</td>\n",
       "      <td>1.237721</td>\n",
       "      <td>0.028980</td>\n",
       "      <td>1.236485</td>\n",
       "    </tr>\n",
       "  </tbody>\n",
       "</table>\n",
       "</div>\n",
       "      <button class=\"colab-df-convert\" onclick=\"convertToInteractive('df-c7f6b7f6-39e4-4179-91fb-fc5a1aa55d17')\"\n",
       "              title=\"Convert this dataframe to an interactive table.\"\n",
       "              style=\"display:none;\">\n",
       "        \n",
       "  <svg xmlns=\"http://www.w3.org/2000/svg\" height=\"24px\"viewBox=\"0 0 24 24\"\n",
       "       width=\"24px\">\n",
       "    <path d=\"M0 0h24v24H0V0z\" fill=\"none\"/>\n",
       "    <path d=\"M18.56 5.44l.94 2.06.94-2.06 2.06-.94-2.06-.94-.94-2.06-.94 2.06-2.06.94zm-11 1L8.5 8.5l.94-2.06 2.06-.94-2.06-.94L8.5 2.5l-.94 2.06-2.06.94zm10 10l.94 2.06.94-2.06 2.06-.94-2.06-.94-.94-2.06-.94 2.06-2.06.94z\"/><path d=\"M17.41 7.96l-1.37-1.37c-.4-.4-.92-.59-1.43-.59-.52 0-1.04.2-1.43.59L10.3 9.45l-7.72 7.72c-.78.78-.78 2.05 0 2.83L4 21.41c.39.39.9.59 1.41.59.51 0 1.02-.2 1.41-.59l7.78-7.78 2.81-2.81c.8-.78.8-2.07 0-2.86zM5.41 20L4 18.59l7.72-7.72 1.47 1.35L5.41 20z\"/>\n",
       "  </svg>\n",
       "      </button>\n",
       "      \n",
       "  <style>\n",
       "    .colab-df-container {\n",
       "      display:flex;\n",
       "      flex-wrap:wrap;\n",
       "      gap: 12px;\n",
       "    }\n",
       "\n",
       "    .colab-df-convert {\n",
       "      background-color: #E8F0FE;\n",
       "      border: none;\n",
       "      border-radius: 50%;\n",
       "      cursor: pointer;\n",
       "      display: none;\n",
       "      fill: #1967D2;\n",
       "      height: 32px;\n",
       "      padding: 0 0 0 0;\n",
       "      width: 32px;\n",
       "    }\n",
       "\n",
       "    .colab-df-convert:hover {\n",
       "      background-color: #E2EBFA;\n",
       "      box-shadow: 0px 1px 2px rgba(60, 64, 67, 0.3), 0px 1px 3px 1px rgba(60, 64, 67, 0.15);\n",
       "      fill: #174EA6;\n",
       "    }\n",
       "\n",
       "    [theme=dark] .colab-df-convert {\n",
       "      background-color: #3B4455;\n",
       "      fill: #D2E3FC;\n",
       "    }\n",
       "\n",
       "    [theme=dark] .colab-df-convert:hover {\n",
       "      background-color: #434B5C;\n",
       "      box-shadow: 0px 1px 3px 1px rgba(0, 0, 0, 0.15);\n",
       "      filter: drop-shadow(0px 1px 2px rgba(0, 0, 0, 0.3));\n",
       "      fill: #FFFFFF;\n",
       "    }\n",
       "  </style>\n",
       "\n",
       "      <script>\n",
       "        const buttonEl =\n",
       "          document.querySelector('#df-c7f6b7f6-39e4-4179-91fb-fc5a1aa55d17 button.colab-df-convert');\n",
       "        buttonEl.style.display =\n",
       "          google.colab.kernel.accessAllowed ? 'block' : 'none';\n",
       "\n",
       "        async function convertToInteractive(key) {\n",
       "          const element = document.querySelector('#df-c7f6b7f6-39e4-4179-91fb-fc5a1aa55d17');\n",
       "          const dataTable =\n",
       "            await google.colab.kernel.invokeFunction('convertToInteractive',\n",
       "                                                     [key], {});\n",
       "          if (!dataTable) return;\n",
       "\n",
       "          const docLinkHtml = 'Like what you see? Visit the ' +\n",
       "            '<a target=\"_blank\" href=https://colab.research.google.com/notebooks/data_table.ipynb>data table notebook</a>'\n",
       "            + ' to learn more about interactive tables.';\n",
       "          element.innerHTML = '';\n",
       "          dataTable['output_type'] = 'display_data';\n",
       "          await google.colab.output.renderOutput(dataTable, element);\n",
       "          const docLink = document.createElement('div');\n",
       "          docLink.innerHTML = docLinkHtml;\n",
       "          element.appendChild(docLink);\n",
       "        }\n",
       "      </script>\n",
       "    </div>\n",
       "  </div>\n",
       "  "
      ],
      "text/plain": [
       "   model_name hyperparamter_setting  mean_training_rmse  sd_training_rmse  \\\n",
       "0         DTR                     5            1.208094          0.023307   \n",
       "1         DTR                    10            1.245443          0.025972   \n",
       "2         DTR                    20            1.334991          0.015919   \n",
       "3       ridge                 1e-05            1.171548          0.023958   \n",
       "4       ridge                0.0001            1.171551          0.023972   \n",
       "5       ridge                 0.001            1.171536          0.023957   \n",
       "6       ridge                  0.01            1.171461          0.023988   \n",
       "7       ridge                   0.1            1.171041          0.023995   \n",
       "8       ridge                     1            1.167322          0.024522   \n",
       "9       ridge                    10            1.160131          0.026597   \n",
       "10      ridge                   100            1.178600          0.027793   \n",
       "11      ridge                  1000            1.209263          0.027735   \n",
       "12      ridge                 10000            1.226040          0.028372   \n",
       "13      ridge                100000            1.237721          0.028980   \n",
       "\n",
       "    test_rmse  \n",
       "0    1.202108  \n",
       "1    1.262279  \n",
       "2    1.372672  \n",
       "3    1.175742  \n",
       "4    1.175751  \n",
       "5    1.175457  \n",
       "6    1.175521  \n",
       "7    1.175179  \n",
       "8    1.172270  \n",
       "9    1.161836  \n",
       "10   1.171264  \n",
       "11   1.203217  \n",
       "12   1.222962  \n",
       "13   1.236485  "
      ]
     },
     "execution_count": 23,
     "metadata": {},
     "output_type": "execute_result"
    }
   ],
   "source": [
    "print(results_data)\n",
    "dfs = pd.DataFrame(results_data)\n",
    "dfs"
   ]
  },
  {
   "cell_type": "code",
   "execution_count": 24,
   "id": "jRfBObbDJ2pg",
   "metadata": {
    "colab": {
     "base_uri": "https://localhost:8080/"
    },
    "id": "jRfBObbDJ2pg",
    "outputId": "796b9cf2-fa71-41b7-8598-6178cb6e71ac"
   },
   "outputs": [
    {
     "name": "stdout",
     "output_type": "stream",
     "text": [
      "1\n",
      "5\n",
      "10\n",
      "15\n"
     ]
    }
   ],
   "source": [
    "## K-NEAREST NEIGHBOR\n",
    "\n",
    "from sklearn.neighbors import KNeighborsRegressor\n",
    "\n",
    "ks = [1, 5, 10, 15]\n",
    "for k in ks:\n",
    "  model_name = \"KNN\"\n",
    "  hyp = str(k)\n",
    "  train_rmses = []\n",
    "\n",
    "  for nfold in range(5):\n",
    "  \n",
    "    train_set = pd.DataFrame()\n",
    "    val_set = pd.DataFrame()\n",
    "\n",
    "    for i in range(5):\n",
    "      if (i != nfold):\n",
    "        train_set = pd.concat([train_set, data_folds[i]], axis=0)\n",
    "      else:\n",
    "        val_set = pd.concat([val_set, data_folds[i]], axis=0)\n",
    "\n",
    "    Xtrain = train_set[all_features]\n",
    "    Ytrain = train_set[\"score\"]\n",
    "    Xval = val_set[all_features]\n",
    "    Yval = val_set[\"score\"]\n",
    "\n",
    "    \n",
    "    pipeline = make_pipeline(col_pipeline, KNeighborsRegressor(n_neighbors=k))\n",
    "    pipeline.fit(Xtrain, Ytrain)\n",
    "\n",
    "    val_pred = np.asarray(pipeline.predict(Xval))\n",
    "    val_error = np.square(val_pred - Yval)\n",
    "    val_rmse = np.sqrt(np.sum(val_error) /len(Xval))\n",
    "    train_rmses.append(val_rmse)\n",
    "  \n",
    "  mean_train_rmse = np.mean(train_rmses)\n",
    "  sd_train_rmse = np.std(train_rmses)\n",
    "\n",
    "  results_data[\"model_name\"].append(model_name)\n",
    "  results_data[\"hyperparamter_setting\"].append(hyp)\n",
    "  results_data[\"mean_training_rmse\"].append(mean_train_rmse)\n",
    "  results_data[\"sd_training_rmse\"].append(sd_train_rmse)\n",
    "\n",
    "  print(k)\n",
    "  pipeline = make_pipeline(col_pipeline, KNeighborsRegressor(n_neighbors=k))\n",
    "  pipeline.fit(total_Xtrain, total_Ytrain)\n",
    "  test_pred = np.asarray(pipeline.predict(total_Xtest))\n",
    "  test_error = np.square(test_pred - total_Ytest)\n",
    "  test_rmse = np.sqrt(np.sum(test_error) /len(Xtest))\n",
    "  results_data[\"test_rmse\"].append(test_rmse)"
   ]
  },
  {
   "cell_type": "code",
   "execution_count": 25,
   "id": "0YOvWPgoU5f2",
   "metadata": {
    "colab": {
     "base_uri": "https://localhost:8080/",
     "height": 652
    },
    "id": "0YOvWPgoU5f2",
    "outputId": "5dfe3e95-b8a2-4fb4-a497-e5af90709a4d"
   },
   "outputs": [
    {
     "name": "stdout",
     "output_type": "stream",
     "text": [
      "{'model_name': ['DTR', 'DTR', 'DTR', 'ridge', 'ridge', 'ridge', 'ridge', 'ridge', 'ridge', 'ridge', 'ridge', 'ridge', 'ridge', 'ridge', 'KNN', 'KNN', 'KNN', 'KNN'], 'hyperparamter_setting': ['5', '10', '20', '1e-05', '0.0001', '0.001', '0.01', '0.1', '1', '10', '100', '1000', '10000', '100000', '1', '5', '10', '15'], 'mean_training_rmse': [1.208094186519705, 1.2454427211400911, 1.3349907701785437, 1.1715478320753452, 1.1715512711066007, 1.171536437922751, 1.1714605324969243, 1.171040718706792, 1.167321905354776, 1.160131189622231, 1.1786003174802102, 1.209263437412607, 1.2260398289555752, 1.2377211414428124, 1.5984157064644073, 1.2617477639934884, 1.2183164145809222, 1.206307123765442], 'sd_training_rmse': [0.02330679904192824, 0.02597186157714203, 0.015919245228671112, 0.023958436587093457, 0.02397211101969935, 0.02395653115905334, 0.023987995722296276, 0.023995313357225725, 0.024521937847497784, 0.026596518399162168, 0.027792669667579175, 0.027734762430704895, 0.02837208791583268, 0.028979845092785294, 0.018838134251452348, 0.0221017337318455, 0.020850986179100646, 0.020384664428317573], 'test_rmse': [1.2021076225285747, 1.2622793067391083, 1.372671998450443, 1.1757422813209202, 1.175750969591995, 1.1754574899651449, 1.1755205474091346, 1.175178651975849, 1.1722696925560154, 1.1618361501938803, 1.1712637490435092, 1.2032172075723067, 1.2229618373234654, 1.2364854520448396, 1.605025294096721, 1.247213354018661, 1.212141197710003, 1.2123592377415477]}\n"
     ]
    },
    {
     "data": {
      "text/html": [
       "\n",
       "  <div id=\"df-c1e10396-99f4-4be9-87d5-e556b145f4e1\">\n",
       "    <div class=\"colab-df-container\">\n",
       "      <div>\n",
       "<style scoped>\n",
       "    .dataframe tbody tr th:only-of-type {\n",
       "        vertical-align: middle;\n",
       "    }\n",
       "\n",
       "    .dataframe tbody tr th {\n",
       "        vertical-align: top;\n",
       "    }\n",
       "\n",
       "    .dataframe thead th {\n",
       "        text-align: right;\n",
       "    }\n",
       "</style>\n",
       "<table border=\"1\" class=\"dataframe\">\n",
       "  <thead>\n",
       "    <tr style=\"text-align: right;\">\n",
       "      <th></th>\n",
       "      <th>model_name</th>\n",
       "      <th>hyperparamter_setting</th>\n",
       "      <th>mean_training_rmse</th>\n",
       "      <th>sd_training_rmse</th>\n",
       "      <th>test_rmse</th>\n",
       "    </tr>\n",
       "  </thead>\n",
       "  <tbody>\n",
       "    <tr>\n",
       "      <th>0</th>\n",
       "      <td>DTR</td>\n",
       "      <td>5</td>\n",
       "      <td>1.208094</td>\n",
       "      <td>0.023307</td>\n",
       "      <td>1.202108</td>\n",
       "    </tr>\n",
       "    <tr>\n",
       "      <th>1</th>\n",
       "      <td>DTR</td>\n",
       "      <td>10</td>\n",
       "      <td>1.245443</td>\n",
       "      <td>0.025972</td>\n",
       "      <td>1.262279</td>\n",
       "    </tr>\n",
       "    <tr>\n",
       "      <th>2</th>\n",
       "      <td>DTR</td>\n",
       "      <td>20</td>\n",
       "      <td>1.334991</td>\n",
       "      <td>0.015919</td>\n",
       "      <td>1.372672</td>\n",
       "    </tr>\n",
       "    <tr>\n",
       "      <th>3</th>\n",
       "      <td>ridge</td>\n",
       "      <td>1e-05</td>\n",
       "      <td>1.171548</td>\n",
       "      <td>0.023958</td>\n",
       "      <td>1.175742</td>\n",
       "    </tr>\n",
       "    <tr>\n",
       "      <th>4</th>\n",
       "      <td>ridge</td>\n",
       "      <td>0.0001</td>\n",
       "      <td>1.171551</td>\n",
       "      <td>0.023972</td>\n",
       "      <td>1.175751</td>\n",
       "    </tr>\n",
       "    <tr>\n",
       "      <th>5</th>\n",
       "      <td>ridge</td>\n",
       "      <td>0.001</td>\n",
       "      <td>1.171536</td>\n",
       "      <td>0.023957</td>\n",
       "      <td>1.175457</td>\n",
       "    </tr>\n",
       "    <tr>\n",
       "      <th>6</th>\n",
       "      <td>ridge</td>\n",
       "      <td>0.01</td>\n",
       "      <td>1.171461</td>\n",
       "      <td>0.023988</td>\n",
       "      <td>1.175521</td>\n",
       "    </tr>\n",
       "    <tr>\n",
       "      <th>7</th>\n",
       "      <td>ridge</td>\n",
       "      <td>0.1</td>\n",
       "      <td>1.171041</td>\n",
       "      <td>0.023995</td>\n",
       "      <td>1.175179</td>\n",
       "    </tr>\n",
       "    <tr>\n",
       "      <th>8</th>\n",
       "      <td>ridge</td>\n",
       "      <td>1</td>\n",
       "      <td>1.167322</td>\n",
       "      <td>0.024522</td>\n",
       "      <td>1.172270</td>\n",
       "    </tr>\n",
       "    <tr>\n",
       "      <th>9</th>\n",
       "      <td>ridge</td>\n",
       "      <td>10</td>\n",
       "      <td>1.160131</td>\n",
       "      <td>0.026597</td>\n",
       "      <td>1.161836</td>\n",
       "    </tr>\n",
       "    <tr>\n",
       "      <th>10</th>\n",
       "      <td>ridge</td>\n",
       "      <td>100</td>\n",
       "      <td>1.178600</td>\n",
       "      <td>0.027793</td>\n",
       "      <td>1.171264</td>\n",
       "    </tr>\n",
       "    <tr>\n",
       "      <th>11</th>\n",
       "      <td>ridge</td>\n",
       "      <td>1000</td>\n",
       "      <td>1.209263</td>\n",
       "      <td>0.027735</td>\n",
       "      <td>1.203217</td>\n",
       "    </tr>\n",
       "    <tr>\n",
       "      <th>12</th>\n",
       "      <td>ridge</td>\n",
       "      <td>10000</td>\n",
       "      <td>1.226040</td>\n",
       "      <td>0.028372</td>\n",
       "      <td>1.222962</td>\n",
       "    </tr>\n",
       "    <tr>\n",
       "      <th>13</th>\n",
       "      <td>ridge</td>\n",
       "      <td>100000</td>\n",
       "      <td>1.237721</td>\n",
       "      <td>0.028980</td>\n",
       "      <td>1.236485</td>\n",
       "    </tr>\n",
       "    <tr>\n",
       "      <th>14</th>\n",
       "      <td>KNN</td>\n",
       "      <td>1</td>\n",
       "      <td>1.598416</td>\n",
       "      <td>0.018838</td>\n",
       "      <td>1.605025</td>\n",
       "    </tr>\n",
       "    <tr>\n",
       "      <th>15</th>\n",
       "      <td>KNN</td>\n",
       "      <td>5</td>\n",
       "      <td>1.261748</td>\n",
       "      <td>0.022102</td>\n",
       "      <td>1.247213</td>\n",
       "    </tr>\n",
       "    <tr>\n",
       "      <th>16</th>\n",
       "      <td>KNN</td>\n",
       "      <td>10</td>\n",
       "      <td>1.218316</td>\n",
       "      <td>0.020851</td>\n",
       "      <td>1.212141</td>\n",
       "    </tr>\n",
       "    <tr>\n",
       "      <th>17</th>\n",
       "      <td>KNN</td>\n",
       "      <td>15</td>\n",
       "      <td>1.206307</td>\n",
       "      <td>0.020385</td>\n",
       "      <td>1.212359</td>\n",
       "    </tr>\n",
       "  </tbody>\n",
       "</table>\n",
       "</div>\n",
       "      <button class=\"colab-df-convert\" onclick=\"convertToInteractive('df-c1e10396-99f4-4be9-87d5-e556b145f4e1')\"\n",
       "              title=\"Convert this dataframe to an interactive table.\"\n",
       "              style=\"display:none;\">\n",
       "        \n",
       "  <svg xmlns=\"http://www.w3.org/2000/svg\" height=\"24px\"viewBox=\"0 0 24 24\"\n",
       "       width=\"24px\">\n",
       "    <path d=\"M0 0h24v24H0V0z\" fill=\"none\"/>\n",
       "    <path d=\"M18.56 5.44l.94 2.06.94-2.06 2.06-.94-2.06-.94-.94-2.06-.94 2.06-2.06.94zm-11 1L8.5 8.5l.94-2.06 2.06-.94-2.06-.94L8.5 2.5l-.94 2.06-2.06.94zm10 10l.94 2.06.94-2.06 2.06-.94-2.06-.94-.94-2.06-.94 2.06-2.06.94z\"/><path d=\"M17.41 7.96l-1.37-1.37c-.4-.4-.92-.59-1.43-.59-.52 0-1.04.2-1.43.59L10.3 9.45l-7.72 7.72c-.78.78-.78 2.05 0 2.83L4 21.41c.39.39.9.59 1.41.59.51 0 1.02-.2 1.41-.59l7.78-7.78 2.81-2.81c.8-.78.8-2.07 0-2.86zM5.41 20L4 18.59l7.72-7.72 1.47 1.35L5.41 20z\"/>\n",
       "  </svg>\n",
       "      </button>\n",
       "      \n",
       "  <style>\n",
       "    .colab-df-container {\n",
       "      display:flex;\n",
       "      flex-wrap:wrap;\n",
       "      gap: 12px;\n",
       "    }\n",
       "\n",
       "    .colab-df-convert {\n",
       "      background-color: #E8F0FE;\n",
       "      border: none;\n",
       "      border-radius: 50%;\n",
       "      cursor: pointer;\n",
       "      display: none;\n",
       "      fill: #1967D2;\n",
       "      height: 32px;\n",
       "      padding: 0 0 0 0;\n",
       "      width: 32px;\n",
       "    }\n",
       "\n",
       "    .colab-df-convert:hover {\n",
       "      background-color: #E2EBFA;\n",
       "      box-shadow: 0px 1px 2px rgba(60, 64, 67, 0.3), 0px 1px 3px 1px rgba(60, 64, 67, 0.15);\n",
       "      fill: #174EA6;\n",
       "    }\n",
       "\n",
       "    [theme=dark] .colab-df-convert {\n",
       "      background-color: #3B4455;\n",
       "      fill: #D2E3FC;\n",
       "    }\n",
       "\n",
       "    [theme=dark] .colab-df-convert:hover {\n",
       "      background-color: #434B5C;\n",
       "      box-shadow: 0px 1px 3px 1px rgba(0, 0, 0, 0.15);\n",
       "      filter: drop-shadow(0px 1px 2px rgba(0, 0, 0, 0.3));\n",
       "      fill: #FFFFFF;\n",
       "    }\n",
       "  </style>\n",
       "\n",
       "      <script>\n",
       "        const buttonEl =\n",
       "          document.querySelector('#df-c1e10396-99f4-4be9-87d5-e556b145f4e1 button.colab-df-convert');\n",
       "        buttonEl.style.display =\n",
       "          google.colab.kernel.accessAllowed ? 'block' : 'none';\n",
       "\n",
       "        async function convertToInteractive(key) {\n",
       "          const element = document.querySelector('#df-c1e10396-99f4-4be9-87d5-e556b145f4e1');\n",
       "          const dataTable =\n",
       "            await google.colab.kernel.invokeFunction('convertToInteractive',\n",
       "                                                     [key], {});\n",
       "          if (!dataTable) return;\n",
       "\n",
       "          const docLinkHtml = 'Like what you see? Visit the ' +\n",
       "            '<a target=\"_blank\" href=https://colab.research.google.com/notebooks/data_table.ipynb>data table notebook</a>'\n",
       "            + ' to learn more about interactive tables.';\n",
       "          element.innerHTML = '';\n",
       "          dataTable['output_type'] = 'display_data';\n",
       "          await google.colab.output.renderOutput(dataTable, element);\n",
       "          const docLink = document.createElement('div');\n",
       "          docLink.innerHTML = docLinkHtml;\n",
       "          element.appendChild(docLink);\n",
       "        }\n",
       "      </script>\n",
       "    </div>\n",
       "  </div>\n",
       "  "
      ],
      "text/plain": [
       "   model_name hyperparamter_setting  mean_training_rmse  sd_training_rmse  \\\n",
       "0         DTR                     5            1.208094          0.023307   \n",
       "1         DTR                    10            1.245443          0.025972   \n",
       "2         DTR                    20            1.334991          0.015919   \n",
       "3       ridge                 1e-05            1.171548          0.023958   \n",
       "4       ridge                0.0001            1.171551          0.023972   \n",
       "5       ridge                 0.001            1.171536          0.023957   \n",
       "6       ridge                  0.01            1.171461          0.023988   \n",
       "7       ridge                   0.1            1.171041          0.023995   \n",
       "8       ridge                     1            1.167322          0.024522   \n",
       "9       ridge                    10            1.160131          0.026597   \n",
       "10      ridge                   100            1.178600          0.027793   \n",
       "11      ridge                  1000            1.209263          0.027735   \n",
       "12      ridge                 10000            1.226040          0.028372   \n",
       "13      ridge                100000            1.237721          0.028980   \n",
       "14        KNN                     1            1.598416          0.018838   \n",
       "15        KNN                     5            1.261748          0.022102   \n",
       "16        KNN                    10            1.218316          0.020851   \n",
       "17        KNN                    15            1.206307          0.020385   \n",
       "\n",
       "    test_rmse  \n",
       "0    1.202108  \n",
       "1    1.262279  \n",
       "2    1.372672  \n",
       "3    1.175742  \n",
       "4    1.175751  \n",
       "5    1.175457  \n",
       "6    1.175521  \n",
       "7    1.175179  \n",
       "8    1.172270  \n",
       "9    1.161836  \n",
       "10   1.171264  \n",
       "11   1.203217  \n",
       "12   1.222962  \n",
       "13   1.236485  \n",
       "14   1.605025  \n",
       "15   1.247213  \n",
       "16   1.212141  \n",
       "17   1.212359  "
      ]
     },
     "execution_count": 25,
     "metadata": {},
     "output_type": "execute_result"
    }
   ],
   "source": [
    "print(results_data)\n",
    "dfs = pd.DataFrame(results_data)\n",
    "dfs"
   ]
  },
  {
   "cell_type": "markdown",
   "id": "eA7vFK4r-Pfl",
   "metadata": {
    "id": "eA7vFK4r-Pfl"
   },
   "source": [
    "1.4.1 Report, for each model, the hyper parameter setting that resulted in the best performance\n",
    "\n",
    "ANSWER:   **DTR: 5, Ridge: 10, KNN: 10**\n",
    "\n",
    "1.4.2 Which model performed the best overall on the cross-validation?\n",
    "\n",
    "ANSWER:   **Ridge Regression**\n",
    "\n",
    "\n",
    "1.4.3 Which model performed the best overall on the final test set?\n",
    "\n",
    "ANSWER:   **Ridge Regression**\n",
    "\n",
    "1.4.4 With respect to your answer for 1.4.3, why do you think that might be? \n",
    "(Note: there is more than one correct way to answer this question)\n",
    "\n",
    "ANSWER:   **Ridge regression provides regularization.**\n",
    "\n",
    "1.4.5 Which model/hyperparameter setting had the highest standard deviation across the different folds of the cross validation?\n",
    "\n",
    "ANSWER:   **Ridge 10^5**\n",
    "\n",
    "1.4.6 With respect to your answer for 1.4.6, why do you think that might be? (Note: there is more than one correct way to answer this question)\n",
    "\n",
    "ANSWER:   **Huge Penalty**"
   ]
  },
  {
   "cell_type": "markdown",
   "id": "neither-viking",
   "metadata": {
    "id": "neither-viking"
   },
   "source": [
    "# Part 2\n",
    "\n",
    "In class, we have shifted from regression to classification. Here, we're going to get a little practice in optimizing one of the classification models we saw in class - logistic regression. As a reminder...\n",
    "\n",
    "The loss function of logistic regression (also known as the logistic-loss or log-loss) is given by:\n",
    "\\begin{equation}\n",
    "  J({\\bf w}) = \\frac{1}{n}\\sum_{i=1}^n \\log{(1 + \\exp{(-y_i{\\bf w}^\\top{\\bf x}_i}))}\n",
    "  \\label{eqn:logloss}\n",
    "\\end{equation}\n",
    "\n",
    "The gradient for this loss function, as derived in class, is:\n",
    "\\begin{equation}\n",
    "  \\nabla J({\\bf w}) = -\\frac{1}{n}\\sum_{i=1}^n \\frac{y_i}{1 + \\exp{(y_i{\\bf w}^\\top{\\bf x}_i)}}{\\bf x}_i\n",
    "  \\label{eqn:loglossgradient}\n",
    "\\end{equation}\n",
    "\n",
    "\n",
    "The Hessian for the loss function is given by:\n",
    "\\begin{equation}\n",
    "  {\\bf H}({\\bf w}) = \\frac{1}{n} \\sum_{i=1}^n \\frac{\\exp{(y_i{\\bf w}^\\top{\\bf x}_i)}}{(1 + \\exp{(y_i{\\bf w}^\\top{\\bf x}_i)})^2}{\\bf x}_i{\\bf x}_i^\\top\n",
    "  \\label{eqn:loglosshessian}\n",
    "\\end{equation}\n",
    "\n",
    "## Part 2.1 - Logistic Regression with Gradient Descent\n",
    "\n",
    "In Part 2.1 we will implement logistic regression with gradient descent. You need to finish implementing 3 functions:\n",
    "\n",
    "1. `logistic_objective` - compute the logistic loss for the given data set (see equation above)\n",
    "2. `logistic_gradient` - compute the gradient vector of logistic loss for the given data set (see equation above)\n",
    "3. `run_gradient_descent` - run the gradient descent algorithm, given these two functions.\n",
    "\n",
    "We have provided you with some simulation data to evaluate your method with. Part 2.1 will, however, largely be graded by evaluating your code on a slightly different dataset to ensure robustness. \n",
    "\n",
    "In addition, please submit answers to the following questions on your written report:\n",
    "\n",
    "- **2.1.1** - How did you go about selecting a good step size, i.e. one that was not too big or too small? (*Note: There is more than one correct answer to this*)\n",
    "- **2.1.2** - What is the condition under which we assume that the gradient descent algorithm has converged in the code here?\n",
    "- **2.1.3** - What is a different convergence metric we could have used? (*Note: There is more than one correct answer to this*)"
   ]
  },
  {
   "cell_type": "code",
   "execution_count": 26,
   "id": "standard-roulette",
   "metadata": {
    "id": "standard-roulette"
   },
   "outputs": [],
   "source": [
    "def logistic_objective(w, X, y):\n",
    "\n",
    "    # compute log-loss error (scalar) with respect\n",
    "    # to w (vector) for the given data X and y                               \n",
    "    # Inputs:\n",
    "    # w = d x 1\n",
    "    # X = N x d\n",
    "    # y = N x 1\n",
    "    # Output:\n",
    "    # error = scalar\n",
    "    \n",
    "    # IMPLEMENT THIS METHOD - REMOVE THE NEXT LINE\n",
    "    if len(w.shape) == 1:\n",
    "        w = w[:,np.newaxis]\n",
    "    error = np.mean(np.log(1 + np.exp(-y*np.dot(X,w))))\n",
    "    return error\n",
    "\n",
    "def logistic_gradient(w, X, y):\n",
    "\n",
    "    # compute the gradient of the log-loss error (vector) with respect\n",
    "    # to w (vector) for the given data X and y  \n",
    "    #\n",
    "    # Inputs:\n",
    "    # w = d x 1\n",
    "    # X = N x d\n",
    "    # y = N x 1\n",
    "    # Output:\n",
    "    # error = d length gradient vector (not a d x 1 matrix)\n",
    "\n",
    "    # IMPLEMENT THIS METHOD - REMOVE THE NEXT LINE\n",
    "    if len(w.shape) == 1:\n",
    "        w = w[:,np.newaxis]\n",
    "    # n = len(X)\n",
    "    # num = (np.dot(y.T, X))\n",
    "    deno = (1 + np.exp(y*np.dot(X, w)))\n",
    "    \n",
    "    gradient = -1*np.mean((y/deno)*X, axis=0)\n",
    "    return np.squeeze(gradient)\n",
    "\n",
    "\n",
    "def run_gradient_descent(X,y):\n",
    "    old_w = np.array([-1]*(X.shape[1]))\n",
    "    # change this value! This is an unreasonable step size\n",
    "    step_size = .01\n",
    "    new_w = old_w - 1\n",
    "    \n",
    "    while ((new_w-old_w)**2).sum() > .0000000001:\n",
    "        #IMPLEMENT THIS!\n",
    "        gradient = logistic_gradient(new_w, X, y[:,np.newaxis])\n",
    "        old_w = new_w\n",
    "        new_w = old_w - step_size*gradient\n",
    "    return new_w\n"
   ]
  },
  {
   "cell_type": "code",
   "execution_count": 27,
   "id": "crude-foundation",
   "metadata": {
    "id": "crude-foundation"
   },
   "outputs": [],
   "source": [
    "import numpy as np\n",
    "from scipy.stats import uniform, bernoulli\n",
    "import functools\n",
    "draw_binary = functools.partial(np.random.binomial,n=1)\n",
    "\n",
    "## Simulated data to test your method\n",
    "DATA_SIZE = 10000\n",
    "x1 = bernoulli(.5).rvs(DATA_SIZE)\n",
    "x2 = np.floor(uniform(18,60).rvs(DATA_SIZE))\n",
    "true_w = [-9, 3.5, 0.2]\n",
    "xb = true_w[0] + true_w[1]*x1 + true_w[2]*x2\n",
    "p = 1/(1 + np.exp(-xb))\n",
    "y = np.array([1 if draw_binary(p=v) else -1 for v in p])"
   ]
  },
  {
   "cell_type": "code",
   "execution_count": 28,
   "id": "noted-newton",
   "metadata": {
    "colab": {
     "base_uri": "https://localhost:8080/"
    },
    "id": "noted-newton",
    "outputId": "a3596cd0-10c4-4fc0-d23b-8bed7d4a89b5"
   },
   "outputs": [
    {
     "data": {
      "text/plain": [
       "array([[-8.44921366,  3.24682596,  0.19024649]])"
      ]
     },
     "execution_count": 28,
     "metadata": {},
     "output_type": "execute_result"
    }
   ],
   "source": [
    "from sklearn.linear_model import LogisticRegression\n",
    "import numpy as np\n",
    "\n",
    "# notice that logistic regression as implemented in sklearn does not get the exact results either!\n",
    "# so you shouldn't worry if you're a bit off\n",
    "X = np.hstack([np.ones((len(xb),1)), x1[:,np.newaxis], x2[:,np.newaxis]])\n",
    "model = LogisticRegression(solver='liblinear', random_state=0,fit_intercept=False)\n",
    "model.fit(X,y).coef_"
   ]
  },
  {
   "cell_type": "code",
   "execution_count": 29,
   "id": "american-locking",
   "metadata": {
    "colab": {
     "base_uri": "https://localhost:8080/"
    },
    "id": "american-locking",
    "outputId": "cb999a3b-ee9f-4b01-a8e9-134cbfcfd9dc"
   },
   "outputs": [
    {
     "data": {
      "text/plain": [
       "0.8571412494553726"
      ]
     },
     "execution_count": 29,
     "metadata": {},
     "output_type": "execute_result"
    }
   ],
   "source": [
    "# this is how we will test your results\n",
    "gd_result = run_gradient_descent(X,y)\n",
    "# is your result relatively close to the truth?\n",
    "np.abs(true_w-gd_result).sum()"
   ]
  },
  {
   "cell_type": "code",
   "execution_count": 30,
   "id": "rsnOaGBX1sX2",
   "metadata": {
    "colab": {
     "base_uri": "https://localhost:8080/"
    },
    "id": "rsnOaGBX1sX2",
    "outputId": "deaf1035-fa26-4162-c4e6-9c0e72567bcb"
   },
   "outputs": [
    {
     "data": {
      "text/plain": [
       "(10000,)"
      ]
     },
     "execution_count": 30,
     "metadata": {},
     "output_type": "execute_result"
    }
   ],
   "source": [
    "y.shape\n",
    "#y.reshape(-1,1).shape"
   ]
  },
  {
   "cell_type": "markdown",
   "id": "diagnostic-toddler",
   "metadata": {
    "id": "diagnostic-toddler"
   },
   "source": [
    "## <span style=\"color:red\"> 574 Only</span> Part 2.2 - Optimization with Newton-Raphson <span style=\"color:red\"> 574 Only</span>\n",
    "\n",
    "In Part 2.2, you are going to, instead of using gradient descent, use the Newton-Raphson method to optimize the same logistic regression model. To do so, you will need to 1) implement the `logistic_hessian` function to compute the Hessian matrix of logistic loss for the given data set, and 2) use `scipy`'s `optimize` function to perform the optimization, rather than writing a function by hand to do so.  \n",
    "\n",
    "For Part 2.2, you will only need to implement these functions, we will test them using our own code. You can, however, perform the same kinds of tests that we proposed above to check your work! "
   ]
  },
  {
   "cell_type": "code",
   "execution_count": 31,
   "id": "conscious-spokesman",
   "metadata": {
    "id": "conscious-spokesman"
   },
   "outputs": [],
   "source": [
    "def logistic_hessian(w, X, y):\n",
    "\n",
    "    #print(\"CALLED HESSIAN\")\n",
    "    # compute the Hessian of the log-loss error (matrix) with respect\n",
    "    # to w (vector) for the given data X and y                               \n",
    "    #\n",
    "    # Inputs:\n",
    "    # w = d x 1\n",
    "    # X = N x d\n",
    "    # y = N x 1\n",
    "    # Output:\n",
    "    # Hessian = d x d matrix\n",
    "    \n",
    "    \n",
    "    if len(w.shape) == 1:\n",
    "        w = w[:,np.newaxis]\n",
    "    # IMPLEMENT THIS METHOD - REMOVE THE NEXT LINE\n",
    "    n = float(X.shape[0])\n",
    "    en = np.exp(y*np.dot(X,w))\n",
    "    hessian = (1/n)*(np.dot(X.T, X*(en/np.power(1+en,2))))\n",
    "\n",
    "    #print(hessian)\n",
    "    return hessian"
   ]
  },
  {
   "cell_type": "code",
   "execution_count": null,
   "id": "qa4cVbek5_vU",
   "metadata": {
    "id": "qa4cVbek5_vU"
   },
   "outputs": [],
   "source": []
  },
  {
   "cell_type": "code",
   "execution_count": 32,
   "id": "bored-determination",
   "metadata": {
    "colab": {
     "base_uri": "https://localhost:8080/"
    },
    "id": "bored-determination",
    "outputId": "130ce223-eaa3-4798-8e90-42344fdcb40d"
   },
   "outputs": [
    {
     "data": {
      "text/plain": [
       "array([[-8.82760446],\n",
       "       [ 3.40159592],\n",
       "       [ 0.19809853]])"
      ]
     },
     "execution_count": 32,
     "metadata": {},
     "output_type": "execute_result"
    }
   ],
   "source": [
    "from scipy.optimize import minimize\n",
    "import math\n",
    "\n",
    "def run_newton_raphson(X,y):\n",
    "    args = (X,y[:,np.newaxis])\n",
    "    opts = {'maxiter' : 50}    # Preferred value.    \n",
    "    w_init = np.zeros(X.shape[1])\n",
    "    \n",
    "    # note: this is *almost* what you need, you just need to figure out what arguments are necessary here!\n",
    "    soln = minimize(logistic_objective, \n",
    "                    w_init, \n",
    "                    jac=logistic_gradient, \n",
    "                    hess=logistic_hessian, \n",
    "                    args=args,\n",
    "                    method='Newton-CG',\n",
    "                    options=opts)\n",
    "\n",
    "    w = np.transpose(np.array(soln.x))\n",
    "    w = w[:,np.newaxis]\n",
    "    return w\n",
    "    \n",
    "run_newton_raphson(X,y)\n"
   ]
  }
 ],
 "metadata": {
  "colab": {
   "collapsed_sections": [],
   "name": "Assignment2-Student-Madhavi.ipynb",
   "provenance": []
  },
  "kernelspec": {
   "display_name": "Python 3 (ipykernel)",
   "language": "python",
   "name": "python3"
  },
  "language_info": {
   "codemirror_mode": {
    "name": "ipython",
    "version": 3
   },
   "file_extension": ".py",
   "mimetype": "text/x-python",
   "name": "python",
   "nbconvert_exporter": "python",
   "pygments_lexer": "ipython3",
   "version": "3.9.7"
  }
 },
 "nbformat": 4,
 "nbformat_minor": 5
}
